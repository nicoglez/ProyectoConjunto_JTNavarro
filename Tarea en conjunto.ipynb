{
 "cells": [
  {
   "cell_type": "markdown",
   "metadata": {},
   "source": [
    "| $i$                         |       $x$                      | $f(x)$                        |\n",
    "|-----------------------------|--------------------------------|-------------------------------|\n",
    "| 0                           | -1                             |   .3678                       |\n",
    "| <font color= red>1</font>   |  <font color= red>-.05</font>  | <font color= red>.7788</font> |\n",
    "|  <font color= blue>2</font> |   <font color= blue>0</font>   | <font color= blue>1</font>    |\n",
    "| <font color= red>3</font>   |   <font color= red>.05</font>  | <font color= red>.7788</font> |\n",
    "| 4                           |                           1    |   .3678                       |\n",
    "\n",
    "                                             Cuadro 1: Tabla de valores de  𝑓(𝑥)\n"
   ]
  },
  {
   "cell_type": "markdown",
   "metadata": {},
   "source": [
    " $\\int_{-1}^1 e^{-x^2}dx \\approx \\frac{0,5}{3}[f(-1) + f(1) + 4 $(<font color= red>$f$(-0,5)+$f$(0,5)</font>)+2<font color= blue>$f$(0)</font>]\n"
   ]
  },
  {
   "cell_type": "markdown",
   "metadata": {},
   "source": [
    "$\\approx \\frac{0,5}{3}[0,3678 + 0,3678 + 4$ (<font color= red>$0,7788+0,7788$</font>)+$2$<font color= blue>$*1$</font>)] $      \\approx 1,4943$"
   ]
  },
  {
   "cell_type": "markdown",
   "metadata": {},
   "source": [
    "A modo de verificación se calculará por software, el valor del área para $n$ = 100, un valor mucho más elevado al que se utilizó anteriormente. Si lo calculado previamente es correcto, se esperaría que sea próximo al valor presentado a continuación para ser una buena aproximación. "
   ]
  },
  {
   "cell_type": "markdown",
   "metadata": {},
   "source": [
    "$\\int_{-1}^1 e^{-x^2}dx \\approx 1,4936$"
   ]
  },
  {
   "cell_type": "code",
   "execution_count": null,
   "metadata": {},
   "outputs": [],
   "source": []
  }
 ],
 "metadata": {
  "kernelspec": {
   "display_name": "Python 3",
   "language": "python",
   "name": "python3"
  },
  "language_info": {
   "codemirror_mode": {
    "name": "ipython",
    "version": 3
   },
   "file_extension": ".py",
   "mimetype": "text/x-python",
   "name": "python",
   "nbconvert_exporter": "python",
   "pygments_lexer": "ipython3",
   "version": "3.8.3"
  }
 },
 "nbformat": 4,
 "nbformat_minor": 4
}
