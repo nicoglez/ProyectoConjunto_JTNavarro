{
 "cells": [
  {
   "cell_type": "markdown",
   "metadata": {},
   "source": [
    "**Trabajo de Estudiante 1: Tonatiuh Navarro Silva**\n",
    "\n",
    "*Expectativas Estudiante 1*\n",
    "\n",
    "Espero que las clases impartidas durante este curso puedan marcar una diferencia competitiva que sean de utilidad en un futuro y nos brinde las herramientas necesarias para poder mejorar nuestras habilidades de programación.\n",
    "\n",
    "*Transcripcion Figura 1*"
   ]
  },
  {
   "cell_type": "markdown",
   "metadata": {},
   "source": [
    "| $i$                         |       $x$                      | $f(x)$                        |\n",
    "|-----------------------------|--------------------------------|-------------------------------|\n",
    "| 0                           | -1                             |   .3678                       |\n",
    "| <font color= red>1</font>   |  <font color= red>-.05</font>  | <font color= red>.7788</font> |\n",
    "|  <font color= blue>2</font> |   <font color= blue>0</font>   | <font color= blue>1</font>    |\n",
    "| <font color= red>3</font>   |   <font color= red>.05</font>  | <font color= red>.7788</font> |\n",
    "| 4                           |                           1    |   .3678                       |\n",
    "\n",
    "                                             Cuadro 1: Tabla de valores de  𝑓(𝑥)\n"
   ]
  },
  {
   "cell_type": "markdown",
   "metadata": {},
   "source": [
    " $\\int_{-1}^1 e^{-x^2}dx \\approx \\frac{0,5}{3}[f(-1) + f(1) + 4 $(<font color= red>$f$(-0,5)+$f$(0,5)</font>)+2<font color= blue>$f$(0)</font>]\n"
   ]
  },
  {
   "cell_type": "markdown",
   "metadata": {},
   "source": [
    "$\\approx \\frac{0,5}{3}[0,3678 + 0,3678 + 4$ (<font color= red>$0,7788+0,7788$</font>)+$2$<font color= blue>$*1$</font>)] $      \\approx 1,4943$\n"
   ]
  },
  {
   "cell_type": "markdown",
   "metadata": {},
   "source": [
    "A modo de verificación se calculará por software, el valor del área para $n$ = 100, un valor mucho más elevado al que se utilizó anteriormente. Si lo calculado previamente es correcto, se esperaría que sea próximo al valor presentado a continuación para ser una buena aproximación. "
   ]
  },
  {
   "cell_type": "markdown",
   "metadata": {},
   "source": [
    "$\\int_{-1}^1 e^{-x^2}dx \\approx 1,4936$"
   ]
  },
  {
   "cell_type": "markdown",
   "metadata": {},
   "source": [
    "**Trabajo de Estudiante 2: Nicolás González**\n",
    "\n",
    "\n",
    "*Expectativas del curso*  \n",
    "\n",
    "La verdad he escuchado muchas cosas de este curso y qu tiene un buen grado de dificultad, asi que basicamente espero aprender mucho, mejorar mis habilidades de programacion, y saber usar las herramientas de progra que he venido aprendiendo desde primer semestre pero ya mas aplicadas a lo que es la Ingenieria Financiera."
   ]
  },
  {
   "cell_type": "markdown",
   "metadata": {},
   "source": [
    "*Transcripcion Figura 2*\n",
    "\n",
    "|<center> $i$  <center>           \t| $1$   \t| $2$   \t| $3$   \t| $4$   \t| $5$ \t| $6$ \t| $7$  \t|\n",
    "|---------------\t|-----\t|-----\t|-----\t|-----\t|---\t|---\t|----\t|\n",
    "| $E_i(V)$      \t| $12$  \t| $10$  \t| $24$  \t| $12$  \t| - \t| - \t| -  \t|\n",
    "| $r_i(\\Omega)$ \t| $0.1$ \t| $0.5$ \t| $0.2$ \t| $0.5$ \t| - \t| - \t| -  \t|\n",
    "| $R_i(\\Omega)$ \t| $25$  \t| $40$  \t| $16$  \t| $20$  \t| $9$ \t| $4$ \t| $20$ \t|"
   ]
  },
  {
   "cell_type": "markdown",
   "metadata": {},
   "source": [
    "<font color='blue'> Kemna y Vorst (1990) <font color='blue'> <font color='black'> muestran que las opciones asiáticas con media geométrica continua se pueden valuar con el mismo enfoque de las opciones *plain vanilla*; solo se deben de cambiar los parametros de volatilidad $\\sigma$ por $\\sigma_a$, y el costo de acarreo $b$ por $b_a$.    \n",
    "De acuerdo con Kemna y Vorst, las fórmulas para valuar una opción de compra y una opción de venta son:  \n",
    "\n",
    "$c\\approx S_te^{(b_A-r)(T-t)}\\phi(d_1)-Ke^{-r(T-t)}\\phi(d_2)$,      \n",
    "\n",
    "\n",
    "   \n",
    "$p\\approx Ke^{-r(T-t)}\\phi(-d_2) - S_te^{(b_A-r)(T-t)}\\phi(-d_1)$.\n",
    "  \n",
    "con $d_1$ y $d_2$ dados por:\n",
    "\n",
    "$d_1=\\frac{log(S_t/K)+(b_A+1/2\\sigma_a^2)(T-t)}{\\sigma\\sqrt{T-t}}$,  \n",
    "\n",
    "$d_2=d_1-\\sigma_a\\sqrt{T-t}$.\n",
    "\n",
    "La función $\\phi(d)$ es la función de distribución normal acumulada de $E\\sim \\mathcal{N}(0,1)$. La volatilidad ajustada es igual a:\n",
    "\n",
    "$\\sigma_a = \\frac{\\sigma}{\\sqrt{3}}$\n",
    "\n",
    "mientras que el costo de acarreo ajustado es:\n",
    "\n",
    "$b_a = \\frac{1}{2}(v - \\frac{\\sigma^2}{6})$\n",
    "<font color='black'>"
   ]
  }
 ],
 "metadata": {
  "kernelspec": {
   "display_name": "Python 3",
   "language": "python",
   "name": "python3"
  },
  "language_info": {
   "codemirror_mode": {
    "name": "ipython",
    "version": 3
   },
   "file_extension": ".py",
   "mimetype": "text/x-python",
   "name": "python",
   "nbconvert_exporter": "python",
   "pygments_lexer": "ipython3",
   "version": "3.7.4"
  }
 },
 "nbformat": 4,
 "nbformat_minor": 4
}
